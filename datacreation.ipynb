{
 "cells": [
  {
   "cell_type": "code",
   "execution_count": 2,
   "metadata": {},
   "outputs": [],
   "source": [
    "import statistics\n",
    "import pandas as pd\n",
    "import numpy as np\n",
    "from sklearn.tree import DecisionTreeRegressor\n",
    "from sklearn.ensemble import RandomForestRegressor\n",
    "from sklearn.model_selection import train_test_split\n",
    "from sklearn.metrics import mean_squared_error\n",
    "import seaborn as sns\n",
    "import matplotlib.pyplot as plt\n",
    "sns.set()\n",
    "np.random.seed(66)"
   ]
  },
  {
   "cell_type": "code",
   "execution_count": 3,
   "metadata": {},
   "outputs": [],
   "source": [
    "fa_list = []\n",
    "for x in range(2016, 2023):\n",
    "    df = pd.read_csv('/Users/jarek/NBACSE163/' + str(x) + 'FA.csv')\n",
    "    df['Contract_Year'] = x\n",
    "    fa_list.append(df)\n",
    "fa = pd.concat(fa_list, axis=0, ignore_index=True)\n",
    "fa = fa[['Player', 'Contract_Year']]"
   ]
  },
  {
   "cell_type": "code",
   "execution_count": 4,
   "metadata": {},
   "outputs": [
    {
     "data": {
      "text/plain": [
       "Index(['Rk', 'Player', 'Pos', 'Age', 'Tm', 'G', 'GS', 'MP', 'FG', 'FGA', 'FG%',\n",
       "       '3P', '3PA', '3P%', '2P', '2PA', '2P%', 'eFG%', 'FT', 'FTA', 'FT%',\n",
       "       'ORB', 'DRB', 'TRB', 'AST', 'STL', 'BLK', 'TOV', 'PF', 'PTS',\n",
       "       'Player-additional', 'Year'],\n",
       "      dtype='object')"
      ]
     },
     "execution_count": 4,
     "metadata": {},
     "output_type": "execute_result"
    }
   ],
   "source": [
    "stat_list = []\n",
    "for x in range(2016, 2023):\n",
    "    df = pd.read_csv('/Users/jarek/NBACSE163/' + str(x) + 'Stats.csv')\n",
    "    df['Year'] = x\n",
    "    stat_list.append(df)\n",
    "stats = pd.concat(stat_list, axis=0, ignore_index=True)\n",
    "stats.columns"
   ]
  },
  {
   "cell_type": "code",
   "execution_count": 5,
   "metadata": {},
   "outputs": [],
   "source": [
    "final = pd.merge(fa, stats, on=['Player'], how='left')\n",
    "final['PER'] = (final['FG'] * 85.910 + final['STL'] * 53.897 + final['3P'] * 51.757 + final['FT'] * 46.845\n",
    "    + final['BLK'] * 39.190 + final['ORB'] * 39.190 + final['AST']* 34.677 + final['DRB'] * 14.707 - 2.5 * 17.174\n",
    "    - (final['FTA'] - final['FT']) * 20.091 - (final['FGA'] - final['FG']) * 39.190 - final['TOV'] * 53.897 ) * (1 / final['MP'])\n",
    "final = final.drop(['Rk', 'Pos', 'Tm', 'Player-additional'], axis=1)"
   ]
  },
  {
   "cell_type": "code",
   "execution_count": 6,
   "metadata": {},
   "outputs": [
    {
     "name": "stdout",
     "output_type": "stream",
     "text": [
      "0.0974442988204456 0.010681520314547843 -0.012385321100917434 0.39496921687206943\n"
     ]
    }
   ],
   "source": [
    "before = (final['Contract_Year'] == final['Year'] + 1)\n",
    "contract = (final['Contract_Year'] == final['Year'])\n",
    "final = final[before | contract]\n",
    "\n",
    "dups = final.duplicated(subset=['Player','Contract_Year'], keep=False)\n",
    "final = final[dups]\n",
    "\n",
    "final_shift = final.shift(-1)\n",
    "def calc_avg_change(stat: str) -> float:\n",
    "    diff = final_shift[stat] - final[stat]\n",
    "    diff = diff.dropna()\n",
    "    diff = diff.iloc[::2]\n",
    "    return statistics.mean(diff)\n",
    "\n",
    "avg_PER_change = calc_avg_change('PER')\n",
    "avg_PTS_change = calc_avg_change('PTS')\n",
    "avg_AST_change = calc_avg_change('AST')\n",
    "avg_TRB_change = calc_avg_change('TRB')\n",
    "print(avg_PTS_change, avg_AST_change, avg_TRB_change, avg_PER_change)"
   ]
  },
  {
   "cell_type": "code",
   "execution_count": 9,
   "metadata": {},
   "outputs": [
    {
     "data": {
      "text/html": [
       "<div>\n",
       "<style scoped>\n",
       "    .dataframe tbody tr th:only-of-type {\n",
       "        vertical-align: middle;\n",
       "    }\n",
       "\n",
       "    .dataframe tbody tr th {\n",
       "        vertical-align: top;\n",
       "    }\n",
       "\n",
       "    .dataframe thead th {\n",
       "        text-align: right;\n",
       "    }\n",
       "</style>\n",
       "<table border=\"1\" class=\"dataframe\">\n",
       "  <thead>\n",
       "    <tr style=\"text-align: right;\">\n",
       "      <th></th>\n",
       "      <th>Player</th>\n",
       "      <th>Contract_Year</th>\n",
       "      <th>Age</th>\n",
       "      <th>G</th>\n",
       "      <th>GS</th>\n",
       "      <th>MP</th>\n",
       "      <th>FG</th>\n",
       "      <th>FGA</th>\n",
       "      <th>FG%</th>\n",
       "      <th>3P</th>\n",
       "      <th>...</th>\n",
       "      <th>TRB</th>\n",
       "      <th>AST</th>\n",
       "      <th>STL</th>\n",
       "      <th>BLK</th>\n",
       "      <th>TOV</th>\n",
       "      <th>PF</th>\n",
       "      <th>PTS</th>\n",
       "      <th>Year</th>\n",
       "      <th>PER</th>\n",
       "      <th>PER_diff</th>\n",
       "    </tr>\n",
       "  </thead>\n",
       "  <tbody>\n",
       "    <tr>\n",
       "      <th>7247</th>\n",
       "      <td>Brian Bowen</td>\n",
       "      <td>2021</td>\n",
       "      <td>22.0</td>\n",
       "      <td>6.0</td>\n",
       "      <td>0.0</td>\n",
       "      <td>2.5</td>\n",
       "      <td>0.2</td>\n",
       "      <td>0.7</td>\n",
       "      <td>0.25</td>\n",
       "      <td>0.0</td>\n",
       "      <td>...</td>\n",
       "      <td>0.5</td>\n",
       "      <td>0.0</td>\n",
       "      <td>0.0</td>\n",
       "      <td>0.0</td>\n",
       "      <td>0.0</td>\n",
       "      <td>0.2</td>\n",
       "      <td>0.5</td>\n",
       "      <td>2021.0</td>\n",
       "      <td>-11.450200</td>\n",
       "      <td>33.807801</td>\n",
       "    </tr>\n",
       "    <tr>\n",
       "      <th>7347</th>\n",
       "      <td>Jared Harper</td>\n",
       "      <td>2021</td>\n",
       "      <td>23.0</td>\n",
       "      <td>8.0</td>\n",
       "      <td>0.0</td>\n",
       "      <td>2.0</td>\n",
       "      <td>0.0</td>\n",
       "      <td>0.5</td>\n",
       "      <td>0.00</td>\n",
       "      <td>0.0</td>\n",
       "      <td>...</td>\n",
       "      <td>0.3</td>\n",
       "      <td>0.1</td>\n",
       "      <td>0.0</td>\n",
       "      <td>0.0</td>\n",
       "      <td>0.4</td>\n",
       "      <td>0.1</td>\n",
       "      <td>0.4</td>\n",
       "      <td>2021.0</td>\n",
       "      <td>-29.740050</td>\n",
       "      <td>43.465917</td>\n",
       "    </tr>\n",
       "    <tr>\n",
       "      <th>8595</th>\n",
       "      <td>Jared Harper</td>\n",
       "      <td>2022</td>\n",
       "      <td>23.0</td>\n",
       "      <td>8.0</td>\n",
       "      <td>0.0</td>\n",
       "      <td>2.0</td>\n",
       "      <td>0.0</td>\n",
       "      <td>0.5</td>\n",
       "      <td>0.00</td>\n",
       "      <td>0.0</td>\n",
       "      <td>...</td>\n",
       "      <td>0.3</td>\n",
       "      <td>0.1</td>\n",
       "      <td>0.0</td>\n",
       "      <td>0.0</td>\n",
       "      <td>0.4</td>\n",
       "      <td>0.1</td>\n",
       "      <td>0.4</td>\n",
       "      <td>2021.0</td>\n",
       "      <td>-29.740050</td>\n",
       "      <td>68.688701</td>\n",
       "    </tr>\n",
       "    <tr>\n",
       "      <th>8736</th>\n",
       "      <td>Kyle Guy</td>\n",
       "      <td>2022</td>\n",
       "      <td>24.0</td>\n",
       "      <td>19.0</td>\n",
       "      <td>0.0</td>\n",
       "      <td>9.8</td>\n",
       "      <td>1.4</td>\n",
       "      <td>3.4</td>\n",
       "      <td>0.40</td>\n",
       "      <td>0.7</td>\n",
       "      <td>...</td>\n",
       "      <td>0.9</td>\n",
       "      <td>0.9</td>\n",
       "      <td>0.4</td>\n",
       "      <td>0.1</td>\n",
       "      <td>0.7</td>\n",
       "      <td>0.6</td>\n",
       "      <td>3.9</td>\n",
       "      <td>2022.0</td>\n",
       "      <td>8.877633</td>\n",
       "      <td>38.986367</td>\n",
       "    </tr>\n",
       "  </tbody>\n",
       "</table>\n",
       "<p>4 rows × 31 columns</p>\n",
       "</div>"
      ],
      "text/plain": [
       "            Player  Contract_Year   Age     G   GS   MP   FG  FGA   FG%   3P  \\\n",
       "7247   Brian Bowen           2021  22.0   6.0  0.0  2.5  0.2  0.7  0.25  0.0   \n",
       "7347  Jared Harper           2021  23.0   8.0  0.0  2.0  0.0  0.5  0.00  0.0   \n",
       "8595  Jared Harper           2022  23.0   8.0  0.0  2.0  0.0  0.5  0.00  0.0   \n",
       "8736      Kyle Guy           2022  24.0  19.0  0.0  9.8  1.4  3.4  0.40  0.7   \n",
       "\n",
       "      ...  TRB  AST  STL  BLK  TOV   PF  PTS    Year        PER   PER_diff  \n",
       "7247  ...  0.5  0.0  0.0  0.0  0.0  0.2  0.5  2021.0 -11.450200  33.807801  \n",
       "7347  ...  0.3  0.1  0.0  0.0  0.4  0.1  0.4  2021.0 -29.740050  43.465917  \n",
       "8595  ...  0.3  0.1  0.0  0.0  0.4  0.1  0.4  2021.0 -29.740050  68.688701  \n",
       "8736  ...  0.9  0.9  0.4  0.1  0.7  0.6  3.9  2022.0   8.877633  38.986367  \n",
       "\n",
       "[4 rows x 31 columns]"
      ]
     },
     "execution_count": 9,
     "metadata": {},
     "output_type": "execute_result"
    }
   ],
   "source": [
    "PER_diff = final_shift['PER'] - final['PER']\n",
    "PER_diff = PER_diff.dropna()\n",
    "PER_diff = PER_diff.iloc[::2]\n",
    "\n",
    "df = pd.merge(final, PER_diff, left_index=True, right_index=True)\n",
    "df = df.rename(columns={'PER_x':'PER'})\n",
    "df = df.rename(columns={'PER_y':'PER_diff'})\n",
    "df = df.dropna()\n",
    "test = df[df['PER_diff']>30]\n",
    "test"
   ]
  },
  {
   "cell_type": "code",
   "execution_count": 7,
   "metadata": {},
   "outputs": [
    {
     "data": {
      "image/png": "[encoded data removed]",
      "text/plain": [
       "<Figure size 400x400 with 1 Axes>"
      ]
     },
     "metadata": {},
     "output_type": "display_data"
    }
   ],
   "source": [
    "sns.relplot(\n",
    "    data=df, x=\"Age\", y=\"PER_diff\", height=4,\n",
    ")\n",
    "plt.title(\"Age vs PER difference in contract years\")\n",
    "plt.show()"
   ]
  },
  {
   "cell_type": "code",
   "execution_count": 8,
   "metadata": {},
   "outputs": [],
   "source": [
    "ml_df = df.drop(columns=['Player', 'Year', 'Contract_Year'])\n",
    "features = ml_df.loc[:, ml_df.columns != 'PER']\n",
    "labels = ml_df['PER']"
   ]
  },
  {
   "cell_type": "code",
   "execution_count": 10,
   "metadata": {},
   "outputs": [],
   "source": [
    "features_train, features_test, labels_train, labels_test = \\\n",
    "        train_test_split(features, labels, test_size=0.2)"
   ]
  },
  {
   "cell_type": "code",
   "execution_count": 11,
   "metadata": {},
   "outputs": [
    {
     "name": "stdout",
     "output_type": "stream",
     "text": [
      "Train MSE: 0.0\n",
      "Test MSE: 9.415186035986219\n"
     ]
    }
   ],
   "source": [
    "model = DecisionTreeRegressor()\n",
    "model.fit(features_train, labels_train)\n",
    "\n",
    "train_predictions = model.predict(features_train)\n",
    "print('Train MSE:', mean_squared_error(labels_train, train_predictions))\n",
    "\n",
    "test_predictions = model.predict(features_test)\n",
    "print('Test MSE:', mean_squared_error(labels_test, test_predictions))"
   ]
  },
  {
   "cell_type": "code",
   "execution_count": 12,
   "metadata": {},
   "outputs": [
    {
     "name": "stdout",
     "output_type": "stream",
     "text": [
      "Train MSE: 0.7674730696114758\n",
      "Test MSE: 3.9865593355669517\n"
     ]
    }
   ],
   "source": [
    "m = RandomForestRegressor()\n",
    "m.fit(features_train, labels_train)\n",
    "\n",
    "train_predictions = m.predict(features_train)\n",
    "print('Train MSE:', mean_squared_error(labels_train, train_predictions))\n",
    "\n",
    "test_predictions = m.predict(features_test)\n",
    "print('Test MSE:', mean_squared_error(labels_test, test_predictions))\n"
   ]
  }
 ],
 "metadata": {
  "kernelspec": {
   "display_name": "base",
   "language": "python",
   "name": "python3"
  },
  "language_info": {
   "codemirror_mode": {
    "name": "ipython",
    "version": 3
   },
   "file_extension": ".py",
   "mimetype": "text/x-python",
   "name": "python",
   "nbconvert_exporter": "python",
   "pygments_lexer": "ipython3",
   "version": "3.9.13"
  },
  "orig_nbformat": 4,
  "vscode": {
   "interpreter": {
    "hash": "a1604b45414cbf84aaeed65462b9a0d5f9a10965ce6fb2aa7cf8c93586c34fff"
   }
  }
 },
 "nbformat": 4,
 "nbformat_minor": 2
}
